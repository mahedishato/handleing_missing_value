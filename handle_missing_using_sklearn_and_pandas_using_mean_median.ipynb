{
 "cells": [
  {
   "cell_type": "code",
   "execution_count": 58,
   "id": "580c0c29",
   "metadata": {},
   "outputs": [],
   "source": [
    "import pandas as pd \n",
    "import numpy as np\n",
    "import matplotlib.pyplot as plt "
   ]
  },
  {
   "cell_type": "code",
   "execution_count": 59,
   "id": "3d4c305a",
   "metadata": {},
   "outputs": [],
   "source": [
    "from sklearn.model_selection import train_test_split\n",
    "from sklearn.impute import SimpleImputer\n",
    "from sklearn.compose import ColumnTransformer"
   ]
  },
  {
   "cell_type": "code",
   "execution_count": 60,
   "id": "ef949406",
   "metadata": {},
   "outputs": [],
   "source": [
    "df =pd.read_csv('data_science_job.csv')"
   ]
  },
  {
   "cell_type": "code",
   "execution_count": 61,
   "id": "a7c24527",
   "metadata": {},
   "outputs": [
    {
     "data": {
      "text/plain": [
       "enrollee_id                0.000000\n",
       "city                       0.000000\n",
       "city_development_index     2.500261\n",
       "gender                    23.530640\n",
       "relevent_experience        0.000000\n",
       "enrolled_university        2.014824\n",
       "education_level            2.401086\n",
       "major_discipline          14.683161\n",
       "experience                 0.339284\n",
       "company_size              30.994885\n",
       "company_type              32.049274\n",
       "training_hours             3.998330\n",
       "target                     0.000000\n",
       "dtype: float64"
      ]
     },
     "execution_count": 61,
     "metadata": {},
     "output_type": "execute_result"
    }
   ],
   "source": [
    "df.isnull().mean()*100"
   ]
  },
  {
   "cell_type": "code",
   "execution_count": 62,
   "id": "4de9c89c",
   "metadata": {},
   "outputs": [
    {
     "data": {
      "text/html": [
       "<div>\n",
       "<style scoped>\n",
       "    .dataframe tbody tr th:only-of-type {\n",
       "        vertical-align: middle;\n",
       "    }\n",
       "\n",
       "    .dataframe tbody tr th {\n",
       "        vertical-align: top;\n",
       "    }\n",
       "\n",
       "    .dataframe thead th {\n",
       "        text-align: right;\n",
       "    }\n",
       "</style>\n",
       "<table border=\"1\" class=\"dataframe\">\n",
       "  <thead>\n",
       "    <tr style=\"text-align: right;\">\n",
       "      <th></th>\n",
       "      <th>enrollee_id</th>\n",
       "      <th>city</th>\n",
       "      <th>city_development_index</th>\n",
       "      <th>gender</th>\n",
       "      <th>relevent_experience</th>\n",
       "      <th>enrolled_university</th>\n",
       "      <th>education_level</th>\n",
       "      <th>major_discipline</th>\n",
       "      <th>experience</th>\n",
       "      <th>company_size</th>\n",
       "      <th>company_type</th>\n",
       "      <th>training_hours</th>\n",
       "      <th>target</th>\n",
       "    </tr>\n",
       "  </thead>\n",
       "  <tbody>\n",
       "    <tr>\n",
       "      <th>0</th>\n",
       "      <td>8949</td>\n",
       "      <td>city_103</td>\n",
       "      <td>0.920</td>\n",
       "      <td>Male</td>\n",
       "      <td>Has relevent experience</td>\n",
       "      <td>no_enrollment</td>\n",
       "      <td>Graduate</td>\n",
       "      <td>STEM</td>\n",
       "      <td>20.0</td>\n",
       "      <td>NaN</td>\n",
       "      <td>NaN</td>\n",
       "      <td>36.0</td>\n",
       "      <td>1.0</td>\n",
       "    </tr>\n",
       "    <tr>\n",
       "      <th>1</th>\n",
       "      <td>29725</td>\n",
       "      <td>city_40</td>\n",
       "      <td>0.776</td>\n",
       "      <td>Male</td>\n",
       "      <td>No relevent experience</td>\n",
       "      <td>no_enrollment</td>\n",
       "      <td>Graduate</td>\n",
       "      <td>STEM</td>\n",
       "      <td>15.0</td>\n",
       "      <td>50-99</td>\n",
       "      <td>Pvt Ltd</td>\n",
       "      <td>47.0</td>\n",
       "      <td>0.0</td>\n",
       "    </tr>\n",
       "    <tr>\n",
       "      <th>2</th>\n",
       "      <td>11561</td>\n",
       "      <td>city_21</td>\n",
       "      <td>0.624</td>\n",
       "      <td>NaN</td>\n",
       "      <td>No relevent experience</td>\n",
       "      <td>Full time course</td>\n",
       "      <td>Graduate</td>\n",
       "      <td>STEM</td>\n",
       "      <td>5.0</td>\n",
       "      <td>NaN</td>\n",
       "      <td>NaN</td>\n",
       "      <td>83.0</td>\n",
       "      <td>0.0</td>\n",
       "    </tr>\n",
       "    <tr>\n",
       "      <th>3</th>\n",
       "      <td>33241</td>\n",
       "      <td>city_115</td>\n",
       "      <td>0.789</td>\n",
       "      <td>NaN</td>\n",
       "      <td>No relevent experience</td>\n",
       "      <td>NaN</td>\n",
       "      <td>Graduate</td>\n",
       "      <td>Business Degree</td>\n",
       "      <td>0.0</td>\n",
       "      <td>NaN</td>\n",
       "      <td>Pvt Ltd</td>\n",
       "      <td>52.0</td>\n",
       "      <td>1.0</td>\n",
       "    </tr>\n",
       "    <tr>\n",
       "      <th>4</th>\n",
       "      <td>666</td>\n",
       "      <td>city_162</td>\n",
       "      <td>0.767</td>\n",
       "      <td>Male</td>\n",
       "      <td>Has relevent experience</td>\n",
       "      <td>no_enrollment</td>\n",
       "      <td>Masters</td>\n",
       "      <td>STEM</td>\n",
       "      <td>20.0</td>\n",
       "      <td>50-99</td>\n",
       "      <td>Funded Startup</td>\n",
       "      <td>8.0</td>\n",
       "      <td>0.0</td>\n",
       "    </tr>\n",
       "  </tbody>\n",
       "</table>\n",
       "</div>"
      ],
      "text/plain": [
       "   enrollee_id      city  city_development_index gender  \\\n",
       "0         8949  city_103                   0.920   Male   \n",
       "1        29725   city_40                   0.776   Male   \n",
       "2        11561   city_21                   0.624    NaN   \n",
       "3        33241  city_115                   0.789    NaN   \n",
       "4          666  city_162                   0.767   Male   \n",
       "\n",
       "       relevent_experience enrolled_university education_level  \\\n",
       "0  Has relevent experience       no_enrollment        Graduate   \n",
       "1   No relevent experience       no_enrollment        Graduate   \n",
       "2   No relevent experience    Full time course        Graduate   \n",
       "3   No relevent experience                 NaN        Graduate   \n",
       "4  Has relevent experience       no_enrollment         Masters   \n",
       "\n",
       "  major_discipline  experience company_size    company_type  training_hours  \\\n",
       "0             STEM        20.0          NaN             NaN            36.0   \n",
       "1             STEM        15.0        50-99         Pvt Ltd            47.0   \n",
       "2             STEM         5.0          NaN             NaN            83.0   \n",
       "3  Business Degree         0.0          NaN         Pvt Ltd            52.0   \n",
       "4             STEM        20.0        50-99  Funded Startup             8.0   \n",
       "\n",
       "   target  \n",
       "0     1.0  \n",
       "1     0.0  \n",
       "2     0.0  \n",
       "3     1.0  \n",
       "4     0.0  "
      ]
     },
     "execution_count": 62,
     "metadata": {},
     "output_type": "execute_result"
    }
   ],
   "source": [
    "df.head()"
   ]
  },
  {
   "cell_type": "code",
   "execution_count": 63,
   "id": "0628e4b4",
   "metadata": {},
   "outputs": [
    {
     "data": {
      "text/plain": [
       "0.920    5078\n",
       "0.624    2619\n",
       "0.910    1502\n",
       "0.926    1297\n",
       "0.698     664\n",
       "         ... \n",
       "0.649       4\n",
       "0.807       4\n",
       "0.781       3\n",
       "0.625       3\n",
       "0.664       1\n",
       "Name: city_development_index, Length: 93, dtype: int64"
      ]
     },
     "execution_count": 63,
     "metadata": {},
     "output_type": "execute_result"
    }
   ],
   "source": [
    "df['city_development_index'].value_counts()"
   ]
  },
  {
   "cell_type": "code",
   "execution_count": 64,
   "id": "345fb123",
   "metadata": {},
   "outputs": [
    {
     "data": {
      "text/plain": [
       "0.0    14381\n",
       "1.0     4777\n",
       "Name: target, dtype: int64"
      ]
     },
     "execution_count": 64,
     "metadata": {},
     "output_type": "execute_result"
    }
   ],
   "source": [
    "df['target'].value_counts()"
   ]
  },
  {
   "cell_type": "code",
   "execution_count": 65,
   "id": "d435e830",
   "metadata": {},
   "outputs": [
    {
     "data": {
      "text/plain": [
       "Male      13221\n",
       "Female     1238\n",
       "Other       191\n",
       "Name: gender, dtype: int64"
      ]
     },
     "execution_count": 65,
     "metadata": {},
     "output_type": "execute_result"
    }
   ],
   "source": [
    "df['gender'].value_counts()"
   ]
  },
  {
   "cell_type": "code",
   "execution_count": 66,
   "id": "9f9a3934",
   "metadata": {},
   "outputs": [],
   "source": [
    "df['gender']=df['gender'].map({'Male':1, 'Female':2})"
   ]
  },
  {
   "cell_type": "code",
   "execution_count": 12,
   "id": "f55e0c15",
   "metadata": {},
   "outputs": [
    {
     "data": {
      "text/html": [
       "<div>\n",
       "<style scoped>\n",
       "    .dataframe tbody tr th:only-of-type {\n",
       "        vertical-align: middle;\n",
       "    }\n",
       "\n",
       "    .dataframe tbody tr th {\n",
       "        vertical-align: top;\n",
       "    }\n",
       "\n",
       "    .dataframe thead th {\n",
       "        text-align: right;\n",
       "    }\n",
       "</style>\n",
       "<table border=\"1\" class=\"dataframe\">\n",
       "  <thead>\n",
       "    <tr style=\"text-align: right;\">\n",
       "      <th></th>\n",
       "      <th>enrollee_id</th>\n",
       "      <th>city</th>\n",
       "      <th>city_development_index</th>\n",
       "      <th>gender</th>\n",
       "      <th>relevent_experience</th>\n",
       "      <th>enrolled_university</th>\n",
       "      <th>education_level</th>\n",
       "      <th>major_discipline</th>\n",
       "      <th>experience</th>\n",
       "      <th>company_size</th>\n",
       "      <th>company_type</th>\n",
       "      <th>training_hours</th>\n",
       "      <th>target</th>\n",
       "    </tr>\n",
       "  </thead>\n",
       "  <tbody>\n",
       "    <tr>\n",
       "      <th>0</th>\n",
       "      <td>8949</td>\n",
       "      <td>city_103</td>\n",
       "      <td>0.920</td>\n",
       "      <td>1.0</td>\n",
       "      <td>Has relevent experience</td>\n",
       "      <td>no_enrollment</td>\n",
       "      <td>Graduate</td>\n",
       "      <td>STEM</td>\n",
       "      <td>20.0</td>\n",
       "      <td>NaN</td>\n",
       "      <td>NaN</td>\n",
       "      <td>36.0</td>\n",
       "      <td>1.0</td>\n",
       "    </tr>\n",
       "    <tr>\n",
       "      <th>1</th>\n",
       "      <td>29725</td>\n",
       "      <td>city_40</td>\n",
       "      <td>0.776</td>\n",
       "      <td>1.0</td>\n",
       "      <td>No relevent experience</td>\n",
       "      <td>no_enrollment</td>\n",
       "      <td>Graduate</td>\n",
       "      <td>STEM</td>\n",
       "      <td>15.0</td>\n",
       "      <td>50-99</td>\n",
       "      <td>Pvt Ltd</td>\n",
       "      <td>47.0</td>\n",
       "      <td>0.0</td>\n",
       "    </tr>\n",
       "    <tr>\n",
       "      <th>2</th>\n",
       "      <td>11561</td>\n",
       "      <td>city_21</td>\n",
       "      <td>0.624</td>\n",
       "      <td>NaN</td>\n",
       "      <td>No relevent experience</td>\n",
       "      <td>Full time course</td>\n",
       "      <td>Graduate</td>\n",
       "      <td>STEM</td>\n",
       "      <td>5.0</td>\n",
       "      <td>NaN</td>\n",
       "      <td>NaN</td>\n",
       "      <td>83.0</td>\n",
       "      <td>0.0</td>\n",
       "    </tr>\n",
       "    <tr>\n",
       "      <th>3</th>\n",
       "      <td>33241</td>\n",
       "      <td>city_115</td>\n",
       "      <td>0.789</td>\n",
       "      <td>NaN</td>\n",
       "      <td>No relevent experience</td>\n",
       "      <td>NaN</td>\n",
       "      <td>Graduate</td>\n",
       "      <td>Business Degree</td>\n",
       "      <td>0.0</td>\n",
       "      <td>NaN</td>\n",
       "      <td>Pvt Ltd</td>\n",
       "      <td>52.0</td>\n",
       "      <td>1.0</td>\n",
       "    </tr>\n",
       "    <tr>\n",
       "      <th>4</th>\n",
       "      <td>666</td>\n",
       "      <td>city_162</td>\n",
       "      <td>0.767</td>\n",
       "      <td>1.0</td>\n",
       "      <td>Has relevent experience</td>\n",
       "      <td>no_enrollment</td>\n",
       "      <td>Masters</td>\n",
       "      <td>STEM</td>\n",
       "      <td>20.0</td>\n",
       "      <td>50-99</td>\n",
       "      <td>Funded Startup</td>\n",
       "      <td>8.0</td>\n",
       "      <td>0.0</td>\n",
       "    </tr>\n",
       "    <tr>\n",
       "      <th>...</th>\n",
       "      <td>...</td>\n",
       "      <td>...</td>\n",
       "      <td>...</td>\n",
       "      <td>...</td>\n",
       "      <td>...</td>\n",
       "      <td>...</td>\n",
       "      <td>...</td>\n",
       "      <td>...</td>\n",
       "      <td>...</td>\n",
       "      <td>...</td>\n",
       "      <td>...</td>\n",
       "      <td>...</td>\n",
       "      <td>...</td>\n",
       "    </tr>\n",
       "    <tr>\n",
       "      <th>19153</th>\n",
       "      <td>7386</td>\n",
       "      <td>city_173</td>\n",
       "      <td>0.878</td>\n",
       "      <td>1.0</td>\n",
       "      <td>No relevent experience</td>\n",
       "      <td>no_enrollment</td>\n",
       "      <td>Graduate</td>\n",
       "      <td>Humanities</td>\n",
       "      <td>14.0</td>\n",
       "      <td>NaN</td>\n",
       "      <td>NaN</td>\n",
       "      <td>42.0</td>\n",
       "      <td>1.0</td>\n",
       "    </tr>\n",
       "    <tr>\n",
       "      <th>19154</th>\n",
       "      <td>31398</td>\n",
       "      <td>city_103</td>\n",
       "      <td>0.920</td>\n",
       "      <td>1.0</td>\n",
       "      <td>Has relevent experience</td>\n",
       "      <td>no_enrollment</td>\n",
       "      <td>Graduate</td>\n",
       "      <td>STEM</td>\n",
       "      <td>14.0</td>\n",
       "      <td>NaN</td>\n",
       "      <td>NaN</td>\n",
       "      <td>52.0</td>\n",
       "      <td>1.0</td>\n",
       "    </tr>\n",
       "    <tr>\n",
       "      <th>19155</th>\n",
       "      <td>24576</td>\n",
       "      <td>city_103</td>\n",
       "      <td>0.920</td>\n",
       "      <td>1.0</td>\n",
       "      <td>Has relevent experience</td>\n",
       "      <td>no_enrollment</td>\n",
       "      <td>Graduate</td>\n",
       "      <td>STEM</td>\n",
       "      <td>20.0</td>\n",
       "      <td>50-99</td>\n",
       "      <td>Pvt Ltd</td>\n",
       "      <td>44.0</td>\n",
       "      <td>0.0</td>\n",
       "    </tr>\n",
       "    <tr>\n",
       "      <th>19156</th>\n",
       "      <td>5756</td>\n",
       "      <td>city_65</td>\n",
       "      <td>0.802</td>\n",
       "      <td>1.0</td>\n",
       "      <td>Has relevent experience</td>\n",
       "      <td>no_enrollment</td>\n",
       "      <td>High School</td>\n",
       "      <td>NaN</td>\n",
       "      <td>0.0</td>\n",
       "      <td>500-999</td>\n",
       "      <td>Pvt Ltd</td>\n",
       "      <td>97.0</td>\n",
       "      <td>0.0</td>\n",
       "    </tr>\n",
       "    <tr>\n",
       "      <th>19157</th>\n",
       "      <td>23834</td>\n",
       "      <td>city_67</td>\n",
       "      <td>0.855</td>\n",
       "      <td>NaN</td>\n",
       "      <td>No relevent experience</td>\n",
       "      <td>no_enrollment</td>\n",
       "      <td>Primary School</td>\n",
       "      <td>NaN</td>\n",
       "      <td>2.0</td>\n",
       "      <td>NaN</td>\n",
       "      <td>NaN</td>\n",
       "      <td>127.0</td>\n",
       "      <td>0.0</td>\n",
       "    </tr>\n",
       "  </tbody>\n",
       "</table>\n",
       "<p>19158 rows × 13 columns</p>\n",
       "</div>"
      ],
      "text/plain": [
       "       enrollee_id      city  city_development_index  gender  \\\n",
       "0             8949  city_103                   0.920     1.0   \n",
       "1            29725   city_40                   0.776     1.0   \n",
       "2            11561   city_21                   0.624     NaN   \n",
       "3            33241  city_115                   0.789     NaN   \n",
       "4              666  city_162                   0.767     1.0   \n",
       "...            ...       ...                     ...     ...   \n",
       "19153         7386  city_173                   0.878     1.0   \n",
       "19154        31398  city_103                   0.920     1.0   \n",
       "19155        24576  city_103                   0.920     1.0   \n",
       "19156         5756   city_65                   0.802     1.0   \n",
       "19157        23834   city_67                   0.855     NaN   \n",
       "\n",
       "           relevent_experience enrolled_university education_level  \\\n",
       "0      Has relevent experience       no_enrollment        Graduate   \n",
       "1       No relevent experience       no_enrollment        Graduate   \n",
       "2       No relevent experience    Full time course        Graduate   \n",
       "3       No relevent experience                 NaN        Graduate   \n",
       "4      Has relevent experience       no_enrollment         Masters   \n",
       "...                        ...                 ...             ...   \n",
       "19153   No relevent experience       no_enrollment        Graduate   \n",
       "19154  Has relevent experience       no_enrollment        Graduate   \n",
       "19155  Has relevent experience       no_enrollment        Graduate   \n",
       "19156  Has relevent experience       no_enrollment     High School   \n",
       "19157   No relevent experience       no_enrollment  Primary School   \n",
       "\n",
       "      major_discipline  experience company_size    company_type  \\\n",
       "0                 STEM        20.0          NaN             NaN   \n",
       "1                 STEM        15.0        50-99         Pvt Ltd   \n",
       "2                 STEM         5.0          NaN             NaN   \n",
       "3      Business Degree         0.0          NaN         Pvt Ltd   \n",
       "4                 STEM        20.0        50-99  Funded Startup   \n",
       "...                ...         ...          ...             ...   \n",
       "19153       Humanities        14.0          NaN             NaN   \n",
       "19154             STEM        14.0          NaN             NaN   \n",
       "19155             STEM        20.0        50-99         Pvt Ltd   \n",
       "19156              NaN         0.0      500-999         Pvt Ltd   \n",
       "19157              NaN         2.0          NaN             NaN   \n",
       "\n",
       "       training_hours  target  \n",
       "0                36.0     1.0  \n",
       "1                47.0     0.0  \n",
       "2                83.0     0.0  \n",
       "3                52.0     1.0  \n",
       "4                 8.0     0.0  \n",
       "...               ...     ...  \n",
       "19153            42.0     1.0  \n",
       "19154            52.0     1.0  \n",
       "19155            44.0     0.0  \n",
       "19156            97.0     0.0  \n",
       "19157           127.0     0.0  \n",
       "\n",
       "[19158 rows x 13 columns]"
      ]
     },
     "execution_count": 12,
     "metadata": {},
     "output_type": "execute_result"
    }
   ],
   "source": [
    "df"
   ]
  },
  {
   "cell_type": "code",
   "execution_count": 67,
   "id": "200b71be",
   "metadata": {},
   "outputs": [],
   "source": [
    "x= df.drop(columns=['target'])\n",
    "y=df['target']"
   ]
  },
  {
   "cell_type": "code",
   "execution_count": 68,
   "id": "9fb1566d",
   "metadata": {},
   "outputs": [],
   "source": [
    "x_train, x_test, y_train, y_test = train_test_split(x, y, test_size=0.2, random_state=2)"
   ]
  },
  {
   "cell_type": "code",
   "execution_count": 69,
   "id": "78e23b6b",
   "metadata": {},
   "outputs": [],
   "source": [
    "mean_of_training_hours= x_train['training_hours'].mean()\n",
    "median_of_training_hours= x_train['training_hours'].median()\n",
    "\n",
    "mean=x_train['city_development_index'].mean()\n",
    "median=x_train['city_development_index'].median()\n"
   ]
  },
  {
   "cell_type": "code",
   "execution_count": 88,
   "id": "a118bea8",
   "metadata": {},
   "outputs": [],
   "source": [
    "x_train['city_development_index_mean']= x_train['city_development_index'].fillna(mean)\n"
   ]
  },
  {
   "cell_type": "code",
   "execution_count": 89,
   "id": "06c345b9",
   "metadata": {},
   "outputs": [],
   "source": [
    "x_train['city_development_index_median']= x_train['city_development_index'].fillna(median)"
   ]
  },
  {
   "cell_type": "code",
   "execution_count": 71,
   "id": "bb7e7fba",
   "metadata": {},
   "outputs": [
    {
     "data": {
      "text/plain": [
       "65.16179668388149"
      ]
     },
     "execution_count": 71,
     "metadata": {},
     "output_type": "execute_result"
    }
   ],
   "source": [
    "mean_of_training_hours"
   ]
  },
  {
   "cell_type": "code",
   "execution_count": 75,
   "id": "07db7dd9",
   "metadata": {},
   "outputs": [
    {
     "data": {
      "text/plain": [
       "47.0"
      ]
     },
     "execution_count": 75,
     "metadata": {},
     "output_type": "execute_result"
    }
   ],
   "source": [
    "median_of_training_hours"
   ]
  },
  {
   "cell_type": "code",
   "execution_count": 74,
   "id": "ec95b574",
   "metadata": {},
   "outputs": [],
   "source": [
    "x_train['training_hours_mean']= x_train['training_hours'].fillna(mean_of_training_hours)"
   ]
  },
  {
   "cell_type": "code",
   "execution_count": 77,
   "id": "23c7ecf7",
   "metadata": {},
   "outputs": [],
   "source": [
    "x_train['training_hours_median']= x_train['training_hours'].fillna(median_of_training_hours)"
   ]
  },
  {
   "cell_type": "code",
   "execution_count": 78,
   "id": "84a591bf",
   "metadata": {},
   "outputs": [
    {
     "data": {
      "text/html": [
       "<div>\n",
       "<style scoped>\n",
       "    .dataframe tbody tr th:only-of-type {\n",
       "        vertical-align: middle;\n",
       "    }\n",
       "\n",
       "    .dataframe tbody tr th {\n",
       "        vertical-align: top;\n",
       "    }\n",
       "\n",
       "    .dataframe thead th {\n",
       "        text-align: right;\n",
       "    }\n",
       "</style>\n",
       "<table border=\"1\" class=\"dataframe\">\n",
       "  <thead>\n",
       "    <tr style=\"text-align: right;\">\n",
       "      <th></th>\n",
       "      <th>enrollee_id</th>\n",
       "      <th>city</th>\n",
       "      <th>city_development_index</th>\n",
       "      <th>gender</th>\n",
       "      <th>relevent_experience</th>\n",
       "      <th>enrolled_university</th>\n",
       "      <th>education_level</th>\n",
       "      <th>major_discipline</th>\n",
       "      <th>experience</th>\n",
       "      <th>company_size</th>\n",
       "      <th>company_type</th>\n",
       "      <th>training_hours</th>\n",
       "      <th>training_hours_mean</th>\n",
       "      <th>training_hours_median</th>\n",
       "    </tr>\n",
       "  </thead>\n",
       "  <tbody>\n",
       "    <tr>\n",
       "      <th>7869</th>\n",
       "      <td>31522</td>\n",
       "      <td>city_21</td>\n",
       "      <td>0.624</td>\n",
       "      <td>1.0</td>\n",
       "      <td>Has relevent experience</td>\n",
       "      <td>no_enrollment</td>\n",
       "      <td>Graduate</td>\n",
       "      <td>STEM</td>\n",
       "      <td>2.0</td>\n",
       "      <td>&lt;10</td>\n",
       "      <td>Early Stage Startup</td>\n",
       "      <td>134.0</td>\n",
       "      <td>134.0</td>\n",
       "      <td>134.0</td>\n",
       "    </tr>\n",
       "    <tr>\n",
       "      <th>2884</th>\n",
       "      <td>1660</td>\n",
       "      <td>city_103</td>\n",
       "      <td>0.920</td>\n",
       "      <td>NaN</td>\n",
       "      <td>Has relevent experience</td>\n",
       "      <td>no_enrollment</td>\n",
       "      <td>Graduate</td>\n",
       "      <td>No Major</td>\n",
       "      <td>8.0</td>\n",
       "      <td>NaN</td>\n",
       "      <td>NaN</td>\n",
       "      <td>58.0</td>\n",
       "      <td>58.0</td>\n",
       "      <td>58.0</td>\n",
       "    </tr>\n",
       "    <tr>\n",
       "      <th>7207</th>\n",
       "      <td>29239</td>\n",
       "      <td>city_103</td>\n",
       "      <td>0.920</td>\n",
       "      <td>1.0</td>\n",
       "      <td>No relevent experience</td>\n",
       "      <td>Full time course</td>\n",
       "      <td>High School</td>\n",
       "      <td>NaN</td>\n",
       "      <td>7.0</td>\n",
       "      <td>NaN</td>\n",
       "      <td>NaN</td>\n",
       "      <td>206.0</td>\n",
       "      <td>206.0</td>\n",
       "      <td>206.0</td>\n",
       "    </tr>\n",
       "    <tr>\n",
       "      <th>3807</th>\n",
       "      <td>17343</td>\n",
       "      <td>city_21</td>\n",
       "      <td>0.624</td>\n",
       "      <td>1.0</td>\n",
       "      <td>Has relevent experience</td>\n",
       "      <td>Full time course</td>\n",
       "      <td>Graduate</td>\n",
       "      <td>STEM</td>\n",
       "      <td>0.0</td>\n",
       "      <td>NaN</td>\n",
       "      <td>NaN</td>\n",
       "      <td>28.0</td>\n",
       "      <td>28.0</td>\n",
       "      <td>28.0</td>\n",
       "    </tr>\n",
       "    <tr>\n",
       "      <th>1861</th>\n",
       "      <td>9366</td>\n",
       "      <td>city_21</td>\n",
       "      <td>0.624</td>\n",
       "      <td>NaN</td>\n",
       "      <td>Has relevent experience</td>\n",
       "      <td>no_enrollment</td>\n",
       "      <td>Graduate</td>\n",
       "      <td>STEM</td>\n",
       "      <td>7.0</td>\n",
       "      <td>50-99</td>\n",
       "      <td>Pvt Ltd</td>\n",
       "      <td>35.0</td>\n",
       "      <td>35.0</td>\n",
       "      <td>35.0</td>\n",
       "    </tr>\n",
       "  </tbody>\n",
       "</table>\n",
       "</div>"
      ],
      "text/plain": [
       "      enrollee_id      city  city_development_index  gender  \\\n",
       "7869        31522   city_21                   0.624     1.0   \n",
       "2884         1660  city_103                   0.920     NaN   \n",
       "7207        29239  city_103                   0.920     1.0   \n",
       "3807        17343   city_21                   0.624     1.0   \n",
       "1861         9366   city_21                   0.624     NaN   \n",
       "\n",
       "          relevent_experience enrolled_university education_level  \\\n",
       "7869  Has relevent experience       no_enrollment        Graduate   \n",
       "2884  Has relevent experience       no_enrollment        Graduate   \n",
       "7207   No relevent experience    Full time course     High School   \n",
       "3807  Has relevent experience    Full time course        Graduate   \n",
       "1861  Has relevent experience       no_enrollment        Graduate   \n",
       "\n",
       "     major_discipline  experience company_size         company_type  \\\n",
       "7869             STEM         2.0          <10  Early Stage Startup   \n",
       "2884         No Major         8.0          NaN                  NaN   \n",
       "7207              NaN         7.0          NaN                  NaN   \n",
       "3807             STEM         0.0          NaN                  NaN   \n",
       "1861             STEM         7.0        50-99              Pvt Ltd   \n",
       "\n",
       "      training_hours  training_hours_mean  training_hours_median  \n",
       "7869           134.0                134.0                  134.0  \n",
       "2884            58.0                 58.0                   58.0  \n",
       "7207           206.0                206.0                  206.0  \n",
       "3807            28.0                 28.0                   28.0  \n",
       "1861            35.0                 35.0                   35.0  "
      ]
     },
     "execution_count": 78,
     "metadata": {},
     "output_type": "execute_result"
    }
   ],
   "source": [
    "x_train.head()"
   ]
  },
  {
   "cell_type": "code",
   "execution_count": 83,
   "id": "afda6893",
   "metadata": {},
   "outputs": [
    {
     "name": "stdout",
     "output_type": "stream",
     "text": [
      "x_train[training_hours_median].var() 3474.8349974528187\n"
     ]
    }
   ],
   "source": [
    "print('x_train[training_hours_median].var()', x_train['training_hours_median'].var())"
   ]
  },
  {
   "cell_type": "code",
   "execution_count": 84,
   "id": "55bac696",
   "metadata": {},
   "outputs": [
    {
     "name": "stdout",
     "output_type": "stream",
     "text": [
      "x_train[training_hours].var() 3605.7523453683752\n"
     ]
    }
   ],
   "source": [
    "print('x_train[training_hours].var()', x_train['training_hours'].var())"
   ]
  },
  {
   "cell_type": "code",
   "execution_count": 87,
   "id": "44e3be72",
   "metadata": {},
   "outputs": [
    {
     "data": {
      "text/plain": [
       "<matplotlib.legend.Legend at 0x166b59fe1f0>"
      ]
     },
     "execution_count": 87,
     "metadata": {},
     "output_type": "execute_result"
    },
    {
     "data": {
      "image/png": "[encoded data removed]",
      "text/plain": [
       "<Figure size 432x288 with 1 Axes>"
      ]
     },
     "metadata": {
      "needs_background": "light"
     },
     "output_type": "display_data"
    }
   ],
   "source": [
    "fig=plt.figure()\n",
    "ax = fig.add_subplot(111)\n",
    "\n",
    "x_train['city_development_index'].plot(kind='kde', ax=ax)\n",
    "\n",
    "x_train['training_hours_mean'].plot(kind='kde', ax=ax, color='red')\n",
    "\n",
    "x_train['training_hours_median'].plot(kind='kde', ax=ax, color='y')\n",
    "\n",
    "\n",
    "lines, labels = ax.get_legend_handles_labels()\n",
    "ax.legend(lines, labels, loc='best')"
   ]
  },
  {
   "cell_type": "code",
   "execution_count": 90,
   "id": "58edce43",
   "metadata": {},
   "outputs": [
    {
     "data": {
      "text/plain": [
       "<matplotlib.legend.Legend at 0x166acd70280>"
      ]
     },
     "execution_count": 90,
     "metadata": {},
     "output_type": "execute_result"
    },
    {
     "data": {
      "image/png": "[encoded data removed]",
      "text/plain": [
       "<Figure size 432x288 with 1 Axes>"
      ]
     },
     "metadata": {
      "needs_background": "light"
     },
     "output_type": "display_data"
    }
   ],
   "source": [
    "fig=plt.figure()\n",
    "ax = fig.add_subplot(111)\n",
    "\n",
    "x_train['city_development_index'].plot(kind='kde', ax=ax)\n",
    "\n",
    "x_train['city_development_index_mean'].plot(kind='kde', ax=ax, color='red')\n",
    "\n",
    "x_train['city_development_index_median'].plot(kind='kde', ax=ax, color='y')\n",
    "\n",
    "\n",
    "lines, labels = ax.get_legend_handles_labels()\n",
    "ax.legend(lines, labels, loc='best')"
   ]
  },
  {
   "cell_type": "code",
   "execution_count": 91,
   "id": "820bcbb3",
   "metadata": {},
   "outputs": [
    {
     "data": {
      "text/html": [
       "<div>\n",
       "<style scoped>\n",
       "    .dataframe tbody tr th:only-of-type {\n",
       "        vertical-align: middle;\n",
       "    }\n",
       "\n",
       "    .dataframe tbody tr th {\n",
       "        vertical-align: top;\n",
       "    }\n",
       "\n",
       "    .dataframe thead th {\n",
       "        text-align: right;\n",
       "    }\n",
       "</style>\n",
       "<table border=\"1\" class=\"dataframe\">\n",
       "  <thead>\n",
       "    <tr style=\"text-align: right;\">\n",
       "      <th></th>\n",
       "      <th>enrollee_id</th>\n",
       "      <th>city_development_index</th>\n",
       "      <th>gender</th>\n",
       "      <th>experience</th>\n",
       "      <th>training_hours</th>\n",
       "      <th>training_hours_mean</th>\n",
       "      <th>training_hours_median</th>\n",
       "      <th>city_development_index_mean</th>\n",
       "      <th>city_development_index_median</th>\n",
       "    </tr>\n",
       "  </thead>\n",
       "  <tbody>\n",
       "    <tr>\n",
       "      <th>enrollee_id</th>\n",
       "      <td>9.247147e+07</td>\n",
       "      <td>-43.673626</td>\n",
       "      <td>31.627848</td>\n",
       "      <td>-2262.850378</td>\n",
       "      <td>-4152.561254</td>\n",
       "      <td>-3987.271704</td>\n",
       "      <td>-4077.844566</td>\n",
       "      <td>-42.559343</td>\n",
       "      <td>-43.347735</td>\n",
       "    </tr>\n",
       "    <tr>\n",
       "      <th>city_development_index</th>\n",
       "      <td>-4.367363e+01</td>\n",
       "      <td>0.015233</td>\n",
       "      <td>0.000491</td>\n",
       "      <td>0.265945</td>\n",
       "      <td>0.045247</td>\n",
       "      <td>0.043455</td>\n",
       "      <td>0.049797</td>\n",
       "      <td>0.015233</td>\n",
       "      <td>0.015233</td>\n",
       "    </tr>\n",
       "    <tr>\n",
       "      <th>gender</th>\n",
       "      <td>3.162785e+01</td>\n",
       "      <td>0.000491</td>\n",
       "      <td>0.076618</td>\n",
       "      <td>-0.126409</td>\n",
       "      <td>0.095660</td>\n",
       "      <td>0.091962</td>\n",
       "      <td>0.100787</td>\n",
       "      <td>0.000482</td>\n",
       "      <td>0.000461</td>\n",
       "    </tr>\n",
       "    <tr>\n",
       "      <th>experience</th>\n",
       "      <td>-2.262850e+03</td>\n",
       "      <td>0.265945</td>\n",
       "      <td>-0.126409</td>\n",
       "      <td>42.312723</td>\n",
       "      <td>0.923956</td>\n",
       "      <td>0.886609</td>\n",
       "      <td>1.096184</td>\n",
       "      <td>0.259154</td>\n",
       "      <td>0.259576</td>\n",
       "    </tr>\n",
       "    <tr>\n",
       "      <th>training_hours</th>\n",
       "      <td>-4.152561e+03</td>\n",
       "      <td>0.045247</td>\n",
       "      <td>0.095660</td>\n",
       "      <td>0.923956</td>\n",
       "      <td>3605.752345</td>\n",
       "      <td>3605.752345</td>\n",
       "      <td>3605.752345</td>\n",
       "      <td>0.044102</td>\n",
       "      <td>0.039276</td>\n",
       "    </tr>\n",
       "    <tr>\n",
       "      <th>training_hours_mean</th>\n",
       "      <td>-3.987272e+03</td>\n",
       "      <td>0.043455</td>\n",
       "      <td>0.091962</td>\n",
       "      <td>0.886609</td>\n",
       "      <td>3605.752345</td>\n",
       "      <td>3462.228108</td>\n",
       "      <td>3462.228108</td>\n",
       "      <td>0.042347</td>\n",
       "      <td>0.037712</td>\n",
       "    </tr>\n",
       "    <tr>\n",
       "      <th>training_hours_median</th>\n",
       "      <td>-4.077845e+03</td>\n",
       "      <td>0.049797</td>\n",
       "      <td>0.100787</td>\n",
       "      <td>1.096184</td>\n",
       "      <td>3605.752345</td>\n",
       "      <td>3462.228108</td>\n",
       "      <td>3474.834997</td>\n",
       "      <td>0.048527</td>\n",
       "      <td>0.044294</td>\n",
       "    </tr>\n",
       "    <tr>\n",
       "      <th>city_development_index_mean</th>\n",
       "      <td>-4.255934e+01</td>\n",
       "      <td>0.015233</td>\n",
       "      <td>0.000482</td>\n",
       "      <td>0.259154</td>\n",
       "      <td>0.044102</td>\n",
       "      <td>0.042347</td>\n",
       "      <td>0.048527</td>\n",
       "      <td>0.014844</td>\n",
       "      <td>0.014844</td>\n",
       "    </tr>\n",
       "    <tr>\n",
       "      <th>city_development_index_median</th>\n",
       "      <td>-4.334773e+01</td>\n",
       "      <td>0.015233</td>\n",
       "      <td>0.000461</td>\n",
       "      <td>0.259576</td>\n",
       "      <td>0.039276</td>\n",
       "      <td>0.037712</td>\n",
       "      <td>0.044294</td>\n",
       "      <td>0.014844</td>\n",
       "      <td>0.014981</td>\n",
       "    </tr>\n",
       "  </tbody>\n",
       "</table>\n",
       "</div>"
      ],
      "text/plain": [
       "                                enrollee_id  city_development_index  \\\n",
       "enrollee_id                    9.247147e+07              -43.673626   \n",
       "city_development_index        -4.367363e+01                0.015233   \n",
       "gender                         3.162785e+01                0.000491   \n",
       "experience                    -2.262850e+03                0.265945   \n",
       "training_hours                -4.152561e+03                0.045247   \n",
       "training_hours_mean           -3.987272e+03                0.043455   \n",
       "training_hours_median         -4.077845e+03                0.049797   \n",
       "city_development_index_mean   -4.255934e+01                0.015233   \n",
       "city_development_index_median -4.334773e+01                0.015233   \n",
       "\n",
       "                                  gender   experience  training_hours  \\\n",
       "enrollee_id                    31.627848 -2262.850378    -4152.561254   \n",
       "city_development_index          0.000491     0.265945        0.045247   \n",
       "gender                          0.076618    -0.126409        0.095660   \n",
       "experience                     -0.126409    42.312723        0.923956   \n",
       "training_hours                  0.095660     0.923956     3605.752345   \n",
       "training_hours_mean             0.091962     0.886609     3605.752345   \n",
       "training_hours_median           0.100787     1.096184     3605.752345   \n",
       "city_development_index_mean     0.000482     0.259154        0.044102   \n",
       "city_development_index_median   0.000461     0.259576        0.039276   \n",
       "\n",
       "                               training_hours_mean  training_hours_median  \\\n",
       "enrollee_id                           -3987.271704           -4077.844566   \n",
       "city_development_index                    0.043455               0.049797   \n",
       "gender                                    0.091962               0.100787   \n",
       "experience                                0.886609               1.096184   \n",
       "training_hours                         3605.752345            3605.752345   \n",
       "training_hours_mean                    3462.228108            3462.228108   \n",
       "training_hours_median                  3462.228108            3474.834997   \n",
       "city_development_index_mean               0.042347               0.048527   \n",
       "city_development_index_median             0.037712               0.044294   \n",
       "\n",
       "                               city_development_index_mean  \\\n",
       "enrollee_id                                     -42.559343   \n",
       "city_development_index                            0.015233   \n",
       "gender                                            0.000482   \n",
       "experience                                        0.259154   \n",
       "training_hours                                    0.044102   \n",
       "training_hours_mean                               0.042347   \n",
       "training_hours_median                             0.048527   \n",
       "city_development_index_mean                       0.014844   \n",
       "city_development_index_median                     0.014844   \n",
       "\n",
       "                               city_development_index_median  \n",
       "enrollee_id                                       -43.347735  \n",
       "city_development_index                              0.015233  \n",
       "gender                                              0.000461  \n",
       "experience                                          0.259576  \n",
       "training_hours                                      0.039276  \n",
       "training_hours_mean                                 0.037712  \n",
       "training_hours_median                               0.044294  \n",
       "city_development_index_mean                         0.014844  \n",
       "city_development_index_median                       0.014981  "
      ]
     },
     "execution_count": 91,
     "metadata": {},
     "output_type": "execute_result"
    }
   ],
   "source": [
    "x_train.cov()"
   ]
  },
  {
   "cell_type": "code",
   "execution_count": 92,
   "id": "09def2a8",
   "metadata": {},
   "outputs": [
    {
     "data": {
      "text/html": [
       "<div>\n",
       "<style scoped>\n",
       "    .dataframe tbody tr th:only-of-type {\n",
       "        vertical-align: middle;\n",
       "    }\n",
       "\n",
       "    .dataframe tbody tr th {\n",
       "        vertical-align: top;\n",
       "    }\n",
       "\n",
       "    .dataframe thead th {\n",
       "        text-align: right;\n",
       "    }\n",
       "</style>\n",
       "<table border=\"1\" class=\"dataframe\">\n",
       "  <thead>\n",
       "    <tr style=\"text-align: right;\">\n",
       "      <th></th>\n",
       "      <th>enrollee_id</th>\n",
       "      <th>city_development_index</th>\n",
       "      <th>gender</th>\n",
       "      <th>experience</th>\n",
       "      <th>training_hours</th>\n",
       "      <th>training_hours_mean</th>\n",
       "      <th>training_hours_median</th>\n",
       "      <th>city_development_index_mean</th>\n",
       "      <th>city_development_index_median</th>\n",
       "    </tr>\n",
       "  </thead>\n",
       "  <tbody>\n",
       "    <tr>\n",
       "      <th>enrollee_id</th>\n",
       "      <td>1.000000</td>\n",
       "      <td>-0.036824</td>\n",
       "      <td>0.011625</td>\n",
       "      <td>-0.036155</td>\n",
       "      <td>-0.007193</td>\n",
       "      <td>-0.007047</td>\n",
       "      <td>-0.007194</td>\n",
       "      <td>-0.036326</td>\n",
       "      <td>-0.036829</td>\n",
       "    </tr>\n",
       "    <tr>\n",
       "      <th>city_development_index</th>\n",
       "      <td>-0.036824</td>\n",
       "      <td>1.000000</td>\n",
       "      <td>0.015090</td>\n",
       "      <td>0.331741</td>\n",
       "      <td>0.006114</td>\n",
       "      <td>0.005980</td>\n",
       "      <td>0.006840</td>\n",
       "      <td>1.000000</td>\n",
       "      <td>1.000000</td>\n",
       "    </tr>\n",
       "    <tr>\n",
       "      <th>gender</th>\n",
       "      <td>0.011625</td>\n",
       "      <td>0.015090</td>\n",
       "      <td>1.000000</td>\n",
       "      <td>-0.070497</td>\n",
       "      <td>0.005747</td>\n",
       "      <td>0.005651</td>\n",
       "      <td>0.006183</td>\n",
       "      <td>0.015015</td>\n",
       "      <td>0.014314</td>\n",
       "    </tr>\n",
       "    <tr>\n",
       "      <th>experience</th>\n",
       "      <td>-0.036155</td>\n",
       "      <td>0.331741</td>\n",
       "      <td>-0.070497</td>\n",
       "      <td>1.000000</td>\n",
       "      <td>0.002366</td>\n",
       "      <td>0.002317</td>\n",
       "      <td>0.002860</td>\n",
       "      <td>0.327284</td>\n",
       "      <td>0.326315</td>\n",
       "    </tr>\n",
       "    <tr>\n",
       "      <th>training_hours</th>\n",
       "      <td>-0.007193</td>\n",
       "      <td>0.006114</td>\n",
       "      <td>0.005747</td>\n",
       "      <td>0.002366</td>\n",
       "      <td>1.000000</td>\n",
       "      <td>1.000000</td>\n",
       "      <td>1.000000</td>\n",
       "      <td>0.006042</td>\n",
       "      <td>0.005356</td>\n",
       "    </tr>\n",
       "    <tr>\n",
       "      <th>training_hours_mean</th>\n",
       "      <td>-0.007047</td>\n",
       "      <td>0.005980</td>\n",
       "      <td>0.005651</td>\n",
       "      <td>0.002317</td>\n",
       "      <td>1.000000</td>\n",
       "      <td>1.000000</td>\n",
       "      <td>0.998184</td>\n",
       "      <td>0.005907</td>\n",
       "      <td>0.005236</td>\n",
       "    </tr>\n",
       "    <tr>\n",
       "      <th>training_hours_median</th>\n",
       "      <td>-0.007194</td>\n",
       "      <td>0.006840</td>\n",
       "      <td>0.006183</td>\n",
       "      <td>0.002860</td>\n",
       "      <td>1.000000</td>\n",
       "      <td>0.998184</td>\n",
       "      <td>1.000000</td>\n",
       "      <td>0.006757</td>\n",
       "      <td>0.006139</td>\n",
       "    </tr>\n",
       "    <tr>\n",
       "      <th>city_development_index_mean</th>\n",
       "      <td>-0.036326</td>\n",
       "      <td>1.000000</td>\n",
       "      <td>0.015015</td>\n",
       "      <td>0.327284</td>\n",
       "      <td>0.006042</td>\n",
       "      <td>0.005907</td>\n",
       "      <td>0.006757</td>\n",
       "      <td>1.000000</td>\n",
       "      <td>0.995405</td>\n",
       "    </tr>\n",
       "    <tr>\n",
       "      <th>city_development_index_median</th>\n",
       "      <td>-0.036829</td>\n",
       "      <td>1.000000</td>\n",
       "      <td>0.014314</td>\n",
       "      <td>0.326315</td>\n",
       "      <td>0.005356</td>\n",
       "      <td>0.005236</td>\n",
       "      <td>0.006139</td>\n",
       "      <td>0.995405</td>\n",
       "      <td>1.000000</td>\n",
       "    </tr>\n",
       "  </tbody>\n",
       "</table>\n",
       "</div>"
      ],
      "text/plain": [
       "                               enrollee_id  city_development_index    gender  \\\n",
       "enrollee_id                       1.000000               -0.036824  0.011625   \n",
       "city_development_index           -0.036824                1.000000  0.015090   \n",
       "gender                            0.011625                0.015090  1.000000   \n",
       "experience                       -0.036155                0.331741 -0.070497   \n",
       "training_hours                   -0.007193                0.006114  0.005747   \n",
       "training_hours_mean              -0.007047                0.005980  0.005651   \n",
       "training_hours_median            -0.007194                0.006840  0.006183   \n",
       "city_development_index_mean      -0.036326                1.000000  0.015015   \n",
       "city_development_index_median    -0.036829                1.000000  0.014314   \n",
       "\n",
       "                               experience  training_hours  \\\n",
       "enrollee_id                     -0.036155       -0.007193   \n",
       "city_development_index           0.331741        0.006114   \n",
       "gender                          -0.070497        0.005747   \n",
       "experience                       1.000000        0.002366   \n",
       "training_hours                   0.002366        1.000000   \n",
       "training_hours_mean              0.002317        1.000000   \n",
       "training_hours_median            0.002860        1.000000   \n",
       "city_development_index_mean      0.327284        0.006042   \n",
       "city_development_index_median    0.326315        0.005356   \n",
       "\n",
       "                               training_hours_mean  training_hours_median  \\\n",
       "enrollee_id                              -0.007047              -0.007194   \n",
       "city_development_index                    0.005980               0.006840   \n",
       "gender                                    0.005651               0.006183   \n",
       "experience                                0.002317               0.002860   \n",
       "training_hours                            1.000000               1.000000   \n",
       "training_hours_mean                       1.000000               0.998184   \n",
       "training_hours_median                     0.998184               1.000000   \n",
       "city_development_index_mean               0.005907               0.006757   \n",
       "city_development_index_median             0.005236               0.006139   \n",
       "\n",
       "                               city_development_index_mean  \\\n",
       "enrollee_id                                      -0.036326   \n",
       "city_development_index                            1.000000   \n",
       "gender                                            0.015015   \n",
       "experience                                        0.327284   \n",
       "training_hours                                    0.006042   \n",
       "training_hours_mean                               0.005907   \n",
       "training_hours_median                             0.006757   \n",
       "city_development_index_mean                       1.000000   \n",
       "city_development_index_median                     0.995405   \n",
       "\n",
       "                               city_development_index_median  \n",
       "enrollee_id                                        -0.036829  \n",
       "city_development_index                              1.000000  \n",
       "gender                                              0.014314  \n",
       "experience                                          0.326315  \n",
       "training_hours                                      0.005356  \n",
       "training_hours_mean                                 0.005236  \n",
       "training_hours_median                               0.006139  \n",
       "city_development_index_mean                         0.995405  \n",
       "city_development_index_median                       1.000000  "
      ]
     },
     "execution_count": 92,
     "metadata": {},
     "output_type": "execute_result"
    }
   ],
   "source": [
    "x_train.corr()"
   ]
  },
  {
   "cell_type": "code",
   "execution_count": 93,
   "id": "e6db853e",
   "metadata": {},
   "outputs": [
    {
     "data": {
      "text/plain": [
       "<AxesSubplot: >"
      ]
     },
     "execution_count": 93,
     "metadata": {},
     "output_type": "execute_result"
    },
    {
     "data": {
      "image/png": "[encoded data removed]",
      "text/plain": [
       "<Figure size 432x288 with 1 Axes>"
      ]
     },
     "metadata": {
      "needs_background": "light"
     },
     "output_type": "display_data"
    }
   ],
   "source": [
    "x_train[['city_development_index', 'city_development_index_mean','city_development_index_median']].boxplot()"
   ]
  },
  {
   "cell_type": "code",
   "execution_count": null,
   "id": "f7dc85d4",
   "metadata": {},
   "outputs": [],
   "source": []
  },
  {
   "cell_type": "code",
   "execution_count": null,
   "id": "9129bfd0",
   "metadata": {},
   "outputs": [],
   "source": []
  },
  {
   "cell_type": "code",
   "execution_count": null,
   "id": "857a963a",
   "metadata": {},
   "outputs": [],
   "source": []
  },
  {
   "cell_type": "code",
   "execution_count": 94,
   "id": "bb376c6a",
   "metadata": {},
   "outputs": [],
   "source": [
    "##using sklearn fill the null values "
   ]
  },
  {
   "cell_type": "code",
   "execution_count": 95,
   "id": "4ca9a2fe",
   "metadata": {},
   "outputs": [],
   "source": [
    "x_train, x_test, y_train, y_test = train_test_split(x, y, test_size=0.2, random_state=2)"
   ]
  },
  {
   "cell_type": "code",
   "execution_count": 96,
   "id": "0655118f",
   "metadata": {},
   "outputs": [],
   "source": [
    "inputation_1= SimpleImputer(strategy='mean')\n",
    "inputation_2= SimpleImputer(strategy='median')"
   ]
  },
  {
   "cell_type": "code",
   "execution_count": 97,
   "id": "bfc36391",
   "metadata": {},
   "outputs": [],
   "source": [
    "trf = ColumnTransformer([('inputation_1', inputation_1,['city_development_index']),\n",
    "                        ('inputation_2',inputation_2,['training_hours'])], remainder='passthrough')"
   ]
  },
  {
   "cell_type": "code",
   "execution_count": 98,
   "id": "34beccd0",
   "metadata": {},
   "outputs": [
    {
     "data": {
      "text/plain": [
       "ColumnTransformer(remainder='passthrough',\n",
       "                  transformers=[('inputation_1', SimpleImputer(),\n",
       "                                 ['city_development_index']),\n",
       "                                ('inputation_2',\n",
       "                                 SimpleImputer(strategy='median'),\n",
       "                                 ['training_hours'])])"
      ]
     },
     "execution_count": 98,
     "metadata": {},
     "output_type": "execute_result"
    }
   ],
   "source": [
    "trf.fit(x_train)"
   ]
  },
  {
   "cell_type": "code",
   "execution_count": 99,
   "id": "0a8eb7aa",
   "metadata": {},
   "outputs": [
    {
     "data": {
      "text/plain": [
       "array([0.82867238])"
      ]
     },
     "execution_count": 99,
     "metadata": {},
     "output_type": "execute_result"
    }
   ],
   "source": [
    "trf.named_transformers_['inputation_1'].statistics_"
   ]
  },
  {
   "cell_type": "code",
   "execution_count": 100,
   "id": "c3ea39ac",
   "metadata": {},
   "outputs": [
    {
     "data": {
      "text/plain": [
       "array([47.])"
      ]
     },
     "execution_count": 100,
     "metadata": {},
     "output_type": "execute_result"
    }
   ],
   "source": [
    "trf.named_transformers_['inputation_2'].statistics_"
   ]
  },
  {
   "cell_type": "code",
   "execution_count": 101,
   "id": "d45b70f7",
   "metadata": {},
   "outputs": [
    {
     "data": {
      "text/plain": [
       "0.828672380314702"
      ]
     },
     "execution_count": 101,
     "metadata": {},
     "output_type": "execute_result"
    }
   ],
   "source": [
    "x_train['city_development_index'].mean()"
   ]
  },
  {
   "cell_type": "code",
   "execution_count": 102,
   "id": "6c49a340",
   "metadata": {},
   "outputs": [],
   "source": [
    "x_test=trf.transform(x_test)\n",
    "x_train=trf.transform(x_train)"
   ]
  },
  {
   "cell_type": "code",
   "execution_count": 107,
   "id": "33f62865",
   "metadata": {},
   "outputs": [
    {
     "data": {
      "text/plain": [
       "array([0.624, 134.0, 31522, 'city_21', 1.0, 'Has relevent experience',\n",
       "       'no_enrollment', 'Graduate', 'STEM', 2.0, '<10',\n",
       "       'Early Stage Startup'], dtype=object)"
      ]
     },
     "execution_count": 107,
     "metadata": {},
     "output_type": "execute_result"
    }
   ],
   "source": [
    "x_train[0]"
   ]
  },
  {
   "cell_type": "code",
   "execution_count": null,
   "id": "56a561f0",
   "metadata": {},
   "outputs": [],
   "source": []
  }
 ],
 "metadata": {
  "kernelspec": {
   "display_name": "Python 3 (ipykernel)",
   "language": "python",
   "name": "python3"
  },
  "language_info": {
   "codemirror_mode": {
    "name": "ipython",
    "version": 3
   },
   "file_extension": ".py",
   "mimetype": "text/x-python",
   "name": "python",
   "nbconvert_exporter": "python",
   "pygments_lexer": "ipython3",
   "version": "3.9.12"
  }
 },
 "nbformat": 4,
 "nbformat_minor": 5
}
